import matplotlib.pyplot as plt
import numpy as np

# Definición de las funciones
def f(n):
    return 0.5 * n**2 - 3*n

def g1(n, c):
    return c * n**2

def g2(n, c):
    return c * n**2

def show_graph(c1, c2, n0):
    # Verificar si los valores de c1, c2 y n0 son válidos
    if c1 <= 0 or c2 <= 0 or n0 < 1:
        print("Los valores de c1, c2 deben ser mayores que 0 y n0 debe ser mayor o igual que 1.")
        return

    # Definición del rango de n
    n = np.linspace(n0, 20, 400)

    # Generación de la gráfica
    plt.figure(figsize=(10, 6))
    plt.plot(n, f(n), label="0.5*n^2 - 3*n")
    plt.plot(n, g1(n, c1), label=f"{c1}*n^2")
    plt.plot(n, g2(n, c2), label=f"{c2}*n^2")
    plt.legend()
    plt.grid(True)
    plt.title("Gráfica demostrativa de $f(n) = \Theta(n^2)$")
    plt.xlabel("n")
    plt.ylabel("f(n)")
    plt.show()

# Solicitar los valores de c1, c2 y n0 al usuario
c1 = float(input("Ingrese el valor de c1: "))
c2 = float(input("Ingrese el valor de c2: "))
n0 = int(input("Ingrese el valor de n0: "))

# Mostrar la gráfica
show_graph(c1, c2, n0)
